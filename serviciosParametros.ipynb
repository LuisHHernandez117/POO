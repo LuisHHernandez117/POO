{
  "nbformat": 4,
  "nbformat_minor": 0,
  "metadata": {
    "colab": {
      "provenance": [],
      "authorship_tag": "ABX9TyNVMvGI3zD0Xc39qvwOo3/9",
      "include_colab_link": true
    },
    "kernelspec": {
      "name": "python3",
      "display_name": "Python 3"
    },
    "language_info": {
      "name": "python"
    }
  },
  "cells": [
    {
      "cell_type": "markdown",
      "metadata": {
        "id": "view-in-github",
        "colab_type": "text"
      },
      "source": [
        "<a href=\"https://colab.research.google.com/github/LuisHHernandez117/POO/blob/main/serviciosParametros.ipynb\" target=\"_parent\"><img src=\"https://colab.research.google.com/assets/colab-badge.svg\" alt=\"Open In Colab\"/></a>"
      ]
    },
    {
      "cell_type": "code",
      "execution_count": null,
      "metadata": {
        "id": "vzXolDJ2KFMm"
      },
      "outputs": [],
      "source": [
        "class Servicios:\n",
        "    def _init_(self):\n",
        "        self.c=[\n",
        "        [1,\"Servicio de Frenos\",300],\n",
        "        [2,\"Afinacion\",600],\n",
        "        [3,\"Cambio de Aceite\",250],\n",
        "        [4,\"Lavado de Motor\",150]\n",
        "        ]\n",
        "class Puestos():\n",
        "    def _init_(self):\n",
        "        self.a=[[1001,\"Mecanico\",400],\n",
        "        [1002,\"Auxiliar M\",300],\n",
        "        [1003,\"Lavador\",250]]\n",
        "class Cotiza(Servicios,Puestos):\n",
        "    def _init_(self):\n",
        "        Servicios._init_(self)\n",
        "        Puestos._init_(self)\n",
        "    def imprime(self):\n",
        "        for i in range(len(self.c[0])):\n",
        "            print(self.c[i][0],self.c[i][1],self.c[i][2])\n",
        "    def pago(self,serv,act):\n",
        "        for i in range(len(self.c)):\n",
        "            if self.c[i][0]==serv:\n",
        "                cservicio=self.c[i][2]\n",
        "        for i in range(len(self.a)):\n",
        "            if self.a[i][0]==act:\n",
        "                activ=self.a[i][2]\n",
        "        return (cservicio+activ)\n",
        "    def cobro(self):\n",
        "        serv=int(input(\"¿Que servicio realizo?\"))\n",
        "        act=int(input(\"¿Quien lo realizo?\"))\n",
        "        print(\"El total a pagar es de: \",self.pago(serv,act))\n",
        "obj=Cotiza()\n",
        "obj.cobro()"
      ]
    }
  ]
}