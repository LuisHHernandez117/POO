{
  "nbformat": 4,
  "nbformat_minor": 0,
  "metadata": {
    "colab": {
      "provenance": [],
      "authorship_tag": "ABX9TyOSsFDdpf+06W5NKIn4B/Y6",
      "include_colab_link": true
    },
    "kernelspec": {
      "name": "python3",
      "display_name": "Python 3"
    },
    "language_info": {
      "name": "python"
    }
  },
  "cells": [
    {
      "cell_type": "markdown",
      "metadata": {
        "id": "view-in-github",
        "colab_type": "text"
      },
      "source": [
        "<a href=\"https://colab.research.google.com/github/LuisHHernandez117/POO/blob/main/ProductosHerencia.ipynb\" target=\"_parent\"><img src=\"https://colab.research.google.com/assets/colab-badge.svg\" alt=\"Open In Colab\"/></a>"
      ]
    },
    {
      "cell_type": "code",
      "execution_count": null,
      "metadata": {
        "id": "HIvAAUDLTxep"
      },
      "outputs": [],
      "source": [
        "class ProductosHerencia:\n",
        "  def __init__(self):\n",
        "      pass\n",
        "\n",
        "  def nombreProductos(self,n):\n",
        "    r=[]\n",
        "    productos=[[1,\"Azucar\"],[2,\"Bombones\"],[3,\"Cigarros\"],[4,\"Aceite\"],[5,\"jabon\"]]\n",
        "    for i in range(len(producto)):\n",
        "      if producto [i][0]==n:\n",
        "        r.append(productos[i][0])\n",
        "        r.append(productos[i][1])\n",
        "       return r\n",
        "\n",
        "  def costos(self,n):\n",
        "    r=[]\n",
        "    costos=[[1,19,0,.3,5,.2],[2,20,.16,.3,2,.25],[3,90,.45,.3,5,.15],[4,40,.16,.3,3,.2],[4,16,0,.3,10,.1]]\n",
        "    for i in range(len(costos)):\n",
        "      if costos [i][0]==n:\n",
        "        r.append(costos[i][0])\n",
        "        r.append(costos[i][1])\n",
        "        r.append(costos[i][2])\n",
        "        r.append(costos[i][3])\n",
        "        r.append(costos[i][4])\n",
        "        r.append(costos[i][5])\n",
        "       return r\n",
        "\n",
        "class VentasHerencia(ProductosHerencia):\n",
        "  def __init__(self):\n",
        "    pass\n",
        "  def pideDatos():\n",
        "    d=[]\n",
        "    d.append(int(input(\"Ingrese el codigo del producto: \")))\n",
        "    d.append(int(input(\"Ingrese la cantidad a comprar: \")))\n",
        "    return (d)\n",
        "  def calculaCostos(self,d):\n",
        "    nombre=[]\n",
        "    costos=[]\n",
        "    nombre.append(self.nombreProductos(d[0]))\n",
        "    costos.append(self.costos(d[0]))\n",
        "\n",
        "    if d[1]>=costos[6]:\n",
        "      subtotal=(d[1]*costos[1])*costos[5]\n",
        "      ganancia=subtotal*costos[5]\n",
        "      impuestos=ganancia*costos[2]\n",
        "      preciodeVenta=ganancia + costos + impuestos\n",
        "      print(d[0],nombre[1]\"Total a pagar\",preciodeVenta)\n",
        "\n",
        "obj=ventasHerencia()\n",
        "obj.pideDatos()\n",
        "obj.calculaCostos()\n"
      ]
    }
  ]
}