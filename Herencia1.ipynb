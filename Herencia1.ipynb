{
  "nbformat": 4,
  "nbformat_minor": 0,
  "metadata": {
    "colab": {
      "provenance": [],
      "authorship_tag": "ABX9TyOelZ/DswT9vnXfNxpEUeAx",
      "include_colab_link": true
    },
    "kernelspec": {
      "name": "python3",
      "display_name": "Python 3"
    },
    "language_info": {
      "name": "python"
    }
  },
  "cells": [
    {
      "cell_type": "markdown",
      "metadata": {
        "id": "view-in-github",
        "colab_type": "text"
      },
      "source": [
        "<a href=\"https://colab.research.google.com/github/LuisHHernandez117/POO/blob/main/Herencia1.ipynb\" target=\"_parent\"><img src=\"https://colab.research.google.com/assets/colab-badge.svg\" alt=\"Open In Colab\"/></a>"
      ]
    },
    {
      "cell_type": "code",
      "execution_count": null,
      "metadata": {
        "id": "oTZsDY-WPCaF"
      },
      "outputs": [],
      "source": [
        "class Padre:\n",
        "  def __init__(self, atributo_padre):\n",
        "    self.atributo_padre = atributo_padre\n",
        "\n",
        "  def metodo_padre(self):\n",
        "    return \"Método padre\"\n",
        "\n",
        "class Hija(Padre):\n",
        "  def __init__(self, atributo_hija, atributo_padre):\n",
        "     Padre.__init__(self, atributo_padre)\n",
        "     self.atributo_hija = atributo_hija\n",
        "\n",
        "  def metodo_hija(self):\n",
        "  return \"Método hija\""
      ]
    },
    {
      "cell_type": "code",
      "source": [
        "class Padre1:\n",
        "  def metodo_padre1(self):\n",
        "    return \"Método padre 1\"\n",
        "\n",
        "class Padre2:\n",
        "  def metodo_padre2(self):\n",
        "    return \"Método padre 2\"\n",
        "\n",
        "class Hija(Padre1, Padre2):\n",
        "  pass"
      ],
      "metadata": {
        "id": "vocfXr7mSZdh"
      },
      "execution_count": null,
      "outputs": []
    },
    {
      "cell_type": "code",
      "source": [
        "class ClasePadre:\n",
        "  class ClaseHijo:\n",
        "    def __init__(self, valor):\n",
        "      self.valor = valor\n",
        "\n",
        "    def display(self):\n",
        "      print(self.valor)\n",
        "nested_obj = ClasePadre.ClaseHijo(10)\n",
        "nested_obj.display() # Output: 10"
      ],
      "metadata": {
        "id": "KW-XyA6-SjfC"
      },
      "execution_count": null,
      "outputs": []
    },
    {
      "cell_type": "code",
      "source": [
        "class FamiliaProgramadores:\n",
        "  def __init__(self, nombre):\n",
        "    self.nombre = nombre\n",
        "\n",
        "  def saludar(self):\n",
        "    print(\"Hola, soy\", self.nombre, \"y soy un programador.\")\n",
        "\n",
        "  def trabajar(self):\n",
        "    print(\"Estoy trabajando en un proyecto emocionante!\")"
      ],
      "metadata": {
        "id": "yIfB9dwSSy-j"
      },
      "execution_count": null,
      "outputs": []
    },
    {
      "cell_type": "code",
      "source": [
        "class HijoProgramador(FamiliaProgramadores):\n",
        "  def __init__(self, nombre, lenguaje):\n",
        "    super().__init__(nombre)\n",
        "    self.lenguaje = lenguaje\n",
        "\n",
        "  def programar(self):\n",
        "    print(\"Estoy programando en\", self.lenguaje)\n",
        "\n",
        "  def jugar(self):\n",
        "    print(\"¡Hora de jugar a mi videojuego!\")"
      ],
      "metadata": {
        "id": "W0kxXwOtTGkU"
      },
      "execution_count": null,
      "outputs": []
    },
    {
      "cell_type": "code",
      "source": [
        "hijo = HijoProgramador(\"Juan\", \"Python\")\n",
        "hijo.saludar()\n",
        "# Salida: Hola, soy Luis y soy un programador.\n",
        "hijo.programar()  # Salida: Estoy programando en Python\n",
        "hijo.trabajar()   # Salida: Estoy trabajando en un proyecto emocionante!\n",
        "hijo.jugar()      # Salida: ¡Hora de jugar a mi videojuego!"
      ],
      "metadata": {
        "id": "C699BoczTO8K"
      },
      "execution_count": null,
      "outputs": []
    }
  ]
}