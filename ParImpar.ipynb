{
  "nbformat": 4,
  "nbformat_minor": 0,
  "metadata": {
    "colab": {
      "provenance": [],
      "authorship_tag": "ABX9TyMdD5wyigDeicbrUz7mKxv3",
      "include_colab_link": true
    },
    "kernelspec": {
      "name": "python3",
      "display_name": "Python 3"
    },
    "language_info": {
      "name": "python"
    }
  },
  "cells": [
    {
      "cell_type": "markdown",
      "metadata": {
        "id": "view-in-github",
        "colab_type": "text"
      },
      "source": [
        "<a href=\"https://colab.research.google.com/github/LuisHHernandez117/POO/blob/main/ParImpar.ipynb\" target=\"_parent\"><img src=\"https://colab.research.google.com/assets/colab-badge.svg\" alt=\"Open In Colab\"/></a>"
      ]
    },
    {
      "cell_type": "code",
      "execution_count": null,
      "metadata": {
        "id": "Lg6eD7ZBRu1r"
      },
      "outputs": [],
      "source": [
        "class ParImpar:\n",
        "  def __init__(self,num):\n",
        "    self.num=num\n",
        "\n",
        "  def par(self,n):\n",
        "    self.num % 2 ==0:\n",
        "    return (self.num)\n",
        "\n",
        "  def impar(self,n)\n",
        "    self.num % 2!=0\n",
        "    return (self.num)\n",
        "\n",
        "num=int(input(\"Ingrese el numero: \"))\n",
        "obj=ParImpar(num)\n",
        "obj.par(n)\n",
        "\n"
      ]
    }
  ]
}