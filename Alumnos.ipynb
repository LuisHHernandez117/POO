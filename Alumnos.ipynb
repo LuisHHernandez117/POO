{
  "nbformat": 4,
  "nbformat_minor": 0,
  "metadata": {
    "colab": {
      "provenance": [],
      "authorship_tag": "ABX9TyNy3I6wniFnEm/KK3viJW3f",
      "include_colab_link": true
    },
    "kernelspec": {
      "name": "python3",
      "display_name": "Python 3"
    },
    "language_info": {
      "name": "python"
    }
  },
  "cells": [
    {
      "cell_type": "markdown",
      "metadata": {
        "id": "view-in-github",
        "colab_type": "text"
      },
      "source": [
        "<a href=\"https://colab.research.google.com/github/LuisHHernandez117/POO/blob/main/Alumnos.ipynb\" target=\"_parent\"><img src=\"https://colab.research.google.com/assets/colab-badge.svg\" alt=\"Open In Colab\"/></a>"
      ]
    },
    {
      "cell_type": "code",
      "execution_count": 4,
      "metadata": {
        "colab": {
          "base_uri": "https://localhost:8080/"
        },
        "id": "qpyjH4x5tyn5",
        "outputId": "ddb3fac8-f078-4086-de2e-807604af75d6"
      },
      "outputs": [
        {
          "output_type": "stream",
          "name": "stdout",
          "text": [
            "Ingrese el nombre: luis\n",
            "Ingrese la calificacion: 9\n",
            "Desea continuar? s/n: s\n",
            "Ingrese el nombre: Juan\n",
            "Ingrese la calificacion: 8\n",
            "Desea continuar? s/n: n\n",
            "El alumno luis Obtuvo una calificacion de: 9\n",
            "El alumno Juan Obtuvo una calificacion de: 8\n"
          ]
        }
      ],
      "source": [
        "\"\"\"\n",
        "nombre=[]\n",
        "calificacion=[]\n",
        "for i in range(0,3)\n",
        "nombre.append(input(\"Ingrese el nombre: \"))\n",
        "calificacion.append(int(input(\"Ingrese la calificacion: \")))\n",
        "\n",
        "for i in range(len(nombre)):\n",
        "  print (\"El alumno\",nombre[i],\"Obtuvo una calificacion de:\",calificacion[i])\n",
        "\"\"\"\n",
        "\n",
        "nombre=[]\n",
        "calificacion=[]\n",
        "resp =\"s\"\n",
        "while resp==\"s\":\n",
        "  nombre.append(input(\"Ingrese el nombre: \"))\n",
        "  calificacion.append(int(input(\"Ingrese la calificacion: \")))\n",
        "  resp=input(\"Desea continuar? s/n: \")\n",
        "for i in range(len(nombre)):\n",
        "  print (\"El alumno\",nombre[i],\"Obtuvo una calificacion de:\",calificacion[i])\n",
        "\n"
      ]
    },
    {
      "cell_type": "code",
      "source": [
        "nombre=[]\n",
        "calificacion1=[]\n",
        "calificacion2=[]\n",
        "calificacion3=[]\n",
        "promedio=[]\n",
        "resp=\"s\"\n",
        "while resp==\"s\":\n",
        "  nombre.append(input(\"Ingrese el nombre: \"))\n",
        "  calificacion1.append(int(input(\"Ingrese la calificacion: \")))\n",
        "  calificacion2.append(int(input(\"Ingrese la calificacion: \")))\n",
        "  calificacion3.append(int(input(\"Ingrese la calificacion: \")))\n",
        "  promedio.append((calificacion1[i]+calificacion2[i]+calificacion3[i])/3)\n",
        "  resp=input(\"Desea continuar? s/n: \")\n",
        "  i+1\n",
        "for i in range(len(nombre)):\n",
        "  print (\"El alumno\",nombre[i],\"Obtuvo una calificacion de:\",calificacion1[i],calificacion2[i],calificacion3[i],\"Y obtuvo un promedio de:\",promedio[i])\n",
        ""
      ],
      "metadata": {
        "colab": {
          "base_uri": "https://localhost:8080/"
        },
        "id": "0eTL_BNWzf_H",
        "outputId": "f3b2315c-68c4-4647-9754-e0187c0c6be1"
      },
      "execution_count": 9,
      "outputs": [
        {
          "output_type": "stream",
          "name": "stdout",
          "text": [
            "Ingrese el nombre: luis\n",
            "Ingrese la calificacion: 10\n",
            "Ingrese la calificacion: 9\n",
            "Ingrese la calificacion: 8\n",
            "Desea continuar? s/n: n\n",
            "El alumno luis Obtuvo una calificacion de: 10 9 8 Y obtuvo un promedio de: 9.0\n"
          ]
        }
      ]
    },
    {
      "cell_type": "code",
      "source": [
        "nombre=[]\n",
        "calificacion1=[]\n",
        "calificacion2=[]\n",
        "calificacion3=[]\n",
        "promedio=[]\n",
        "resp=\"s\"\n",
        "while resp==\"s\":\n",
        "  nombre.append(input(\"Ingrese el nombre: \"))\n",
        "  calificacion1.append(int(input(\"Ingrese la calificacion: \")))\n",
        "  calificacion2.append(int(input(\"Ingrese la calificacion: \")))\n",
        "  calificacion3.append(int(input(\"Ingrese la calificacion: \")))\n",
        "  promedio.append((calificacion1[i]+calificacion2[i]+calificacion3[i])/3)\n",
        "  resp=input(\"Desea continuar? s/n: \")\n",
        "  i+=1\n",
        "for i in range(len(nombre)):\n",
        "  p=promedio[i]\n",
        "  if p >= 90:\n",
        "    print (\"El alumno\",nombre[i],\"Obtuvo una calificacion de:\",calificacion1[i],calificacion2[i],calificacion3[i],\"Y obtuvo un promedio de:\",promedio[i],\"Has APROBADO CHAVALIN\")\n",
        "  elif p >= 70:\n",
        "    print (\"El alumno\",nombre[i],\"Obtuvo una calificacion de:\",calificacion1[i],calificacion2[i],calificacion3[i],\"Y obtuvo un promedio de:\",promedio[i],\"La has LIADO TIO\")\n",
        "  else:\n",
        "    print (\"El alumno\",nombre[i],\"Obtuvo una calificacion de:\",calificacion1[i],calificacion2[i],calificacion3[i],\"Y obtuvo un promedio de:\",promedio[i],\"Has FLIPADO\")"
      ],
      "metadata": {
        "colab": {
          "base_uri": "https://localhost:8080/"
        },
        "id": "gODgs22e21lw",
        "outputId": "358b02c3-2fa8-4a7a-ccd6-63288abfedbc"
      },
      "execution_count": 12,
      "outputs": [
        {
          "output_type": "stream",
          "name": "stdout",
          "text": [
            "Ingrese el nombre: luis\n",
            "Ingrese la calificacion: 80\n",
            "Ingrese la calificacion: 70\n",
            "Ingrese la calificacion: 90\n",
            "Desea continuar? s/n: s\n",
            "Ingrese el nombre: Marco 50\n",
            "Ingrese la calificacion: 50\n",
            "Ingrese la calificacion: 70\n",
            "Ingrese la calificacion: 60\n",
            "Desea continuar? s/n: n\n",
            "El alumno luis Obtuvo una calificacion de: 80 70 90 Y obtuvo un promedio de: 80.0 La has LIADO TIO\n",
            "El alumno Marco 50 Obtuvo una calificacion de: 50 70 60 Y obtuvo un promedio de: 60.0 Has FLIPADO\n"
          ]
        }
      ]
    }
  ]
}