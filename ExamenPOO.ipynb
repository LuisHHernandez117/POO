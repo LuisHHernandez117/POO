{
  "nbformat": 4,
  "nbformat_minor": 0,
  "metadata": {
    "colab": {
      "provenance": [],
      "authorship_tag": "ABX9TyPK9ERX2ujeQhLb5tkDRkKK",
      "include_colab_link": true
    },
    "kernelspec": {
      "name": "python3",
      "display_name": "Python 3"
    },
    "language_info": {
      "name": "python"
    }
  },
  "cells": [
    {
      "cell_type": "markdown",
      "metadata": {
        "id": "view-in-github",
        "colab_type": "text"
      },
      "source": [
        "<a href=\"https://colab.research.google.com/github/LuisHHernandez117/POO/blob/main/ExamenPOO.ipynb\" target=\"_parent\"><img src=\"https://colab.research.google.com/assets/colab-badge.svg\" alt=\"Open In Colab\"/></a>"
      ]
    },
    {
      "cell_type": "markdown",
      "source": [
        "Examen | Hecho por Luis Hugo Pérez Hernandez | 10-04-2025"
      ],
      "metadata": {
        "id": "mSBTjvx7XctQ"
      }
    },
    {
      "cell_type": "code",
      "execution_count": null,
      "metadata": {
        "colab": {
          "base_uri": "https://localhost:8080/"
        },
        "id": "U0ePtj14WpOK",
        "outputId": "bc9605c9-bed9-4eac-fe3f-78a4399452eb"
      },
      "outputs": [
        {
          "output_type": "stream",
          "name": "stdout",
          "text": [
            "El arreglo original es:  [501, 654, 941, 492, 592, 856, 250, 571, 646, 713]\n",
            "Es primo si es 1 y no es primo si es 0:  [0, 0, 0, 0, 0, 0, 0, 0, 0, 0]\n"
          ]
        }
      ],
      "source": [
        "import random\n",
        "class GenerarNumeros:\n",
        "  def __init__(self):\n",
        "    self.arreglos=[]\n",
        "\n",
        "  def generador(self):\n",
        "    c=0\n",
        "    while c < 10:\n",
        "      numero = random.randint(100,999)\n",
        "      self.arreglos.append(numero)\n",
        "      c +=1\n",
        "    return self.arreglos\n",
        "\n",
        "  def imprimir (self):\n",
        "    print(\"El arreglo original es: \",self.arreglos)\n",
        "\n",
        "class Primo(GenerarNumeros):\n",
        "  def __init__(self):\n",
        "    super().__init__()\n",
        "    self.primos=[]\n",
        "\n",
        "  def esPrimo(self, n):\n",
        "    if n < 2:\n",
        "        primo = False\n",
        "        for i in range(2, n):\n",
        "            if n % i == 0:\n",
        "                primo = False\n",
        "                i += 1\n",
        "        primo = True\n",
        "        return primo\n",
        "\n",
        "  def verificaSiesPrimo(self):\n",
        "    j=0\n",
        "    while j < len(self.arreglos):\n",
        "      numero = self.arreglos[j]\n",
        "      if self.esPrimo(numero):\n",
        "        self.primos.append(1)\n",
        "      else:\n",
        "        self.primos.append(0)\n",
        "      j +=1\n",
        "\n",
        "  def imprimirRes(self):\n",
        "    print(\"Es primo si es 1 y no es primo si es 0: \",self.primos)\n",
        "\n",
        "obj=Primo()\n",
        "obj.generador()\n",
        "obj.imprimir()\n",
        "obj.verificaSiesPrimo()\n",
        "obj.imprimirRes()"
      ]
    },
    {
      "cell_type": "code",
      "source": [],
      "metadata": {
        "id": "mI1XcDNHiMwz"
      },
      "execution_count": null,
      "outputs": []
    }
  ]
}