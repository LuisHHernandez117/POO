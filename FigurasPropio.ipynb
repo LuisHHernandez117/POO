{
  "nbformat": 4,
  "nbformat_minor": 0,
  "metadata": {
    "colab": {
      "provenance": [],
      "authorship_tag": "ABX9TyNabm4jbiQ35gf/Mh+1o3eY",
      "include_colab_link": true
    },
    "kernelspec": {
      "name": "python3",
      "display_name": "Python 3"
    },
    "language_info": {
      "name": "python"
    }
  },
  "cells": [
    {
      "cell_type": "markdown",
      "metadata": {
        "id": "view-in-github",
        "colab_type": "text"
      },
      "source": [
        "<a href=\"https://colab.research.google.com/github/LuisHHernandez117/POO/blob/main/FigurasPropio.ipynb\" target=\"_parent\"><img src=\"https://colab.research.google.com/assets/colab-badge.svg\" alt=\"Open In Colab\"/></a>"
      ]
    },
    {
      "cell_type": "code",
      "execution_count": null,
      "metadata": {
        "id": "dehCQ-uV-_Gf"
      },
      "outputs": [],
      "source": [
        "class Figuritas:\n",
        "  def __init__(self):\n",
        "    self.base=0\n",
        "    self.altura=0\n",
        "    self.pi=3.1416\n",
        "    self.radio=0\n",
        "    self.msg=0\n",
        "\n",
        "  def cuadrado(self):\n",
        "    self.msg=\"El area del cuadrado es=\",self.base,\"h\"self.base,\"=\"\n",
        "    self.res=self.base*self.base\n",
        "    return (self.res)\n",
        "\n",
        "  def circulo(self):\n",
        "    self.msg=\"El area del circulo es=\",self.pi,\"r\"self.radio,\"=\"\n",
        "    self.res=self.pi*self.radio*self.radio\n",
        "    return (self.res)\n",
        "\n",
        "  def trinagulo(self):\n",
        "    self.msg=\"El area del circulo es=\",self.base,\"h\"self.altura,\"=\"\n",
        "    self.res=(self.base*self.altura)/2\n",
        "    return (self.res)\n",
        "\n",
        "obj=Figuritas()\n",
        "obj.base=int(input(\"Ingrese la base:\"))\n",
        "obj.altura=int(input(\"Ingrese la altura:\"))\n",
        "obj.radio=int(input(\"Ingrese el radio:\"))\n",
        "\n"
      ]
    }
  ]
}