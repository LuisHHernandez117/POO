{
  "nbformat": 4,
  "nbformat_minor": 0,
  "metadata": {
    "colab": {
      "provenance": [],
      "authorship_tag": "ABX9TyNZcXQSEdTZVoacDG2I96qM",
      "include_colab_link": true
    },
    "kernelspec": {
      "name": "python3",
      "display_name": "Python 3"
    },
    "language_info": {
      "name": "python"
    }
  },
  "cells": [
    {
      "cell_type": "markdown",
      "metadata": {
        "id": "view-in-github",
        "colab_type": "text"
      },
      "source": [
        "<a href=\"https://colab.research.google.com/github/LuisHHernandez117/POO/blob/main/Calificaciones.ipynb\" target=\"_parent\"><img src=\"https://colab.research.google.com/assets/colab-badge.svg\" alt=\"Open In Colab\"/></a>"
      ]
    },
    {
      "cell_type": "code",
      "execution_count": 1,
      "metadata": {
        "id": "-vVq6HkqcKPc",
        "colab": {
          "base_uri": "https://localhost:8080/"
        },
        "outputId": "939d9ee2-494e-49a6-eb1b-9927e47d9f41"
      },
      "outputs": [
        {
          "output_type": "stream",
          "name": "stdout",
          "text": [
            "[[243010, 'Juan', 70, 100, 80, 83.33333333333333], [245901, 'Raul', 60, 70, 70, 66.66666666666667], [243020, 'Jenaro', 100, 50, 50, 66.66666666666667], [245930, 'Uriel', 80, 80, 80, 80.0], [245970, 'Liz', 100, 100, 72, 90.66666666666667]]\n"
          ]
        }
      ],
      "source": [
        "class Calificaciones():\n",
        "  def __init__(self):\n",
        "    r=0\n",
        "    self.d=[[0,0,0,0,0,0],[0,0,0,0,0,0],[0,0,0,0,0,0],[0,0,0,0,0,0],[0,0,0,0,0,0]]\n",
        "  def calif(self):\n",
        "    datos=[[243010,\"Juan\",70,100,80],[245901,\"Raul\",60,70,70],[243020,\"Jenaro\",100,50,50],[245930,\"Uriel\",80,80,80],[245970,\"Liz\",100,100,72]]\n",
        "    return(datos)\n",
        "\n",
        "  def menu(self):\n",
        "    op=0\n",
        "    print(\"Opciones:\")\n",
        "    print(\"1.- Promedio\")\n",
        "    print(\"2.- Mayor Promedio\")\n",
        "    print(\"3.- Menor Promedio\")\n",
        "    print(\"4.- Reprobados\")\n",
        "    print(\"5.- Mayor Calificacion\")\n",
        "    print(\"6.- Buscar Alumno\")\n",
        "    print(\"7.- Salir\")\n",
        "    op=int(input(\"Ingrese una opcion: \"))\n",
        "    return(op)\n",
        "\n",
        "  def promedios(self,datos):\n",
        "    prom=[],[]\n",
        "    for i in range(len(datos)):\n",
        "      self.r=(datos[i][2]+datos[i][3]+datos[i][4])/3\n",
        "      self.d[i][0]=datos[i][0]\n",
        "      self.d[i][1]=datos[i][1]\n",
        "      self.d[i][2]=datos[i][2]\n",
        "      self.d[i][3]=datos[i][3]\n",
        "      self.d[i][4]=datos[i][4]\n",
        "      self.d[i][5]= self.r\n",
        "\n",
        "  def salida(self):\n",
        "    print(self.d)\n",
        "\n",
        "  def menorPromedio(self):\n",
        "    ind=0\n",
        "    menor=0\n",
        "    for i in range(len(self.d)):\n",
        "      if menor <=self.d[i][5]\n",
        "        ind=i\n",
        "        menor=self.d[i][5]\n",
        "        resultado=[]\n",
        "    resultado.append(self.d[ind][0])\n",
        "    resultado.append(self.d[ind][1])\n",
        "    resultado.append(self.d[ind][2])\n",
        "    resultado.append=[self.d[ind][3]]\n",
        "    resultado.append=[self.d[ind][4]]\n",
        "    return(resultado)\n",
        "\n",
        "    #Principal:\n",
        "obj=Calificaciones()\n",
        "c=obj.calif()\n",
        "obj.promedios(c)\n",
        "obj.salida()\n"
      ]
    }
  ]
}