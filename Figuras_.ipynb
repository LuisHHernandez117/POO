{
  "nbformat": 4,
  "nbformat_minor": 0,
  "metadata": {
    "colab": {
      "provenance": [],
      "authorship_tag": "ABX9TyOGJJUKXYmD+1VWSMod0ziT",
      "include_colab_link": true
    },
    "kernelspec": {
      "name": "python3",
      "display_name": "Python 3"
    },
    "language_info": {
      "name": "python"
    }
  },
  "cells": [
    {
      "cell_type": "markdown",
      "metadata": {
        "id": "view-in-github",
        "colab_type": "text"
      },
      "source": [
        "<a href=\"https://colab.research.google.com/github/LuisHHernandez117/POO/blob/main/Figuras_.ipynb\" target=\"_parent\"><img src=\"https://colab.research.google.com/assets/colab-badge.svg\" alt=\"Open In Colab\"/></a>"
      ]
    },
    {
      "cell_type": "code",
      "execution_count": null,
      "metadata": {
        "id": "HBL92CAmiKX_"
      },
      "outputs": [],
      "source": [
        "class PideDatos:\n",
        "  def _init_(self):\n",
        "    pass\n",
        "\n",
        "  def datos(self):\n",
        "    d=[]\n",
        "    d.append(int(input(\"Ingrese la base: \")))\n",
        "    d.append(int(input(\"Ingrese la altura: \")))\n",
        "    return(d)\n",
        "\n",
        "  def operacionT(self,b,h):\n",
        "    r=(b*h)/2\n",
        "    return(\"El area del triangulo es\", r)\n",
        "\n",
        "  def operacionC(self,r):\n",
        "    r=(3.1416*(r**2))\n",
        "    return(\"El area del circulo es: \", r)\n",
        "\n",
        "  def operacionCd(self,l):\n",
        "    r=(l**2)\n",
        "    return(\"El area del cuadrado es: \", r)\n",
        "\n",
        "  def operacionesR(self,b,h):\n",
        "    r=(b*h)\n",
        "    return(\"El area del rectangulo es: \", r)\n",
        "\n",
        "  def operacionesTp(self,b1,b2,h):\n",
        "    r=((b1+b2)*h)/2\n",
        "    return(\"El area del trapecio es: \", r)\n",
        "\n"
      ]
    },
    {
      "cell_type": "code",
      "source": [
        "class Operaciones(PideDatos):\n",
        "  def _init_(self):\n",
        "    pass\n",
        "\n",
        "  def aTriangulo(self):\n",
        "    d=[]\n",
        "    d=self.datos()\n",
        "    r=self.operacionT(d[0],d[1])\n",
        "    return(r)\n",
        "\n",
        "  def aRectangulo(self):\n",
        "    d=[]\n",
        "    d=self.datos()\n",
        "    r=self.operacionesR(d[0],d[1])\n",
        "    return(r)\n",
        "\n",
        "  def aCirculo(self):\n",
        "    d=[]\n",
        "    d=self.datos()\n",
        "    r=self.operacionC(d[0])\n",
        "    return(r)\n",
        "\n",
        "  def aCuadrado(self):\n",
        "    d=[]\n",
        "    d=self.datos()\n",
        "    r=self.operacionCd(d[0])\n",
        "    return(r)\n",
        "\n",
        "  def aTrapecio(self):\n",
        "    d=[]\n",
        "    d=self.datos()\n",
        "    r=self.operacionesTp(d[0],d[1],d[2])\n",
        "    return(r)\n",
        "[10:51 a.m., 1/4/2025] +52 1 468 120 6202: obj=Operaciones()\n",
        "msj=obj.aTriangulo()\n",
        "print(msj)\n",
        "msj=obj.aRectangulo()\n",
        "print(msj)"
      ],
      "metadata": {
        "id": "VN65YabXOkZ2"
      },
      "execution_count": null,
      "outputs": []
    }
  ]
}