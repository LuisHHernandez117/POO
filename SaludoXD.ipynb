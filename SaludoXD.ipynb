{
  "nbformat": 4,
  "nbformat_minor": 0,
  "metadata": {
    "colab": {
      "provenance": [],
      "authorship_tag": "ABX9TyMN+idQ5PNgQeXrEHEzB6n0",
      "include_colab_link": true
    },
    "kernelspec": {
      "name": "python3",
      "display_name": "Python 3"
    },
    "language_info": {
      "name": "python"
    }
  },
  "cells": [
    {
      "cell_type": "markdown",
      "metadata": {
        "id": "view-in-github",
        "colab_type": "text"
      },
      "source": [
        "<a href=\"https://colab.research.google.com/github/LuisHHernandez117/POO/blob/main/SaludoXD.ipynb\" target=\"_parent\"><img src=\"https://colab.research.google.com/assets/colab-badge.svg\" alt=\"Open In Colab\"/></a>"
      ]
    },
    {
      "cell_type": "markdown",
      "source": [
        "Programa Hecho por Luis Hugo Pérez Hernandez | 06/02/2025"
      ],
      "metadata": {
        "id": "dPTmB2uG7V-7"
      }
    },
    {
      "cell_type": "code",
      "execution_count": 9,
      "metadata": {
        "id": "z5pOlsoJ3DGr"
      },
      "outputs": [],
      "source": [
        "class Saludo:\n",
        "  def __init__(self):\n",
        "    self.nombre=\"LuisH\"\n",
        "\n",
        "  def saludos(self):\n",
        "    print(\"Hola\",self.nombre)\n",
        "\n",
        "\n",
        ""
      ]
    },
    {
      "cell_type": "markdown",
      "source": [],
      "metadata": {
        "id": "hPGxY-Tb7TOq"
      }
    },
    {
      "cell_type": "code",
      "source": [
        "x=Saludo()\n",
        "x.saludos()\n"
      ],
      "metadata": {
        "colab": {
          "base_uri": "https://localhost:8080/"
        },
        "id": "9qKE9UM38_x-",
        "outputId": "b590ad02-9947-45c4-e8a2-6ea9951081fb"
      },
      "execution_count": 10,
      "outputs": [
        {
          "output_type": "stream",
          "name": "stdout",
          "text": [
            "Hola LuisH\n"
          ]
        }
      ]
    }
  ]
}