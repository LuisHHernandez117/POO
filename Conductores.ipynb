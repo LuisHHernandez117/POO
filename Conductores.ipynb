{
  "nbformat": 4,
  "nbformat_minor": 0,
  "metadata": {
    "colab": {
      "provenance": [],
      "authorship_tag": "ABX9TyNrqK1qyq6hsUDAPIza9F13",
      "include_colab_link": true
    },
    "kernelspec": {
      "name": "python3",
      "display_name": "Python 3"
    },
    "language_info": {
      "name": "python"
    }
  },
  "cells": [
    {
      "cell_type": "markdown",
      "metadata": {
        "id": "view-in-github",
        "colab_type": "text"
      },
      "source": [
        "<a href=\"https://colab.research.google.com/github/LuisHHernandez117/POO/blob/main/Conductores.ipynb\" target=\"_parent\"><img src=\"https://colab.research.google.com/assets/colab-badge.svg\" alt=\"Open In Colab\"/></a>"
      ]
    },
    {
      "cell_type": "code",
      "execution_count": null,
      "metadata": {
        "id": "TOZvadiJ3vkP"
      },
      "outputs": [],
      "source": [
        "class Personas:\n",
        "    def __init__(self):\n",
        "        self.nombre = []\n",
        "        self.kilometros = []\n",
        "        self.totalKilometros = []\n",
        "\n",
        "    def pedirDatos(self):\n",
        "        print(\"Ingresa los nombres de los conductores. Para cancelar o terminar, ingresa *.\")\n",
        "        nombre = input(\"Ingrese el nombre del conductor: \")\n",
        "        while nombre != \"*\":\n",
        "            self.nombre.append(nombre)\n",
        "            print(\"Ingrese los kilómetros recorridos del conductor\", nombre, \":\")\n",
        "            kilometroPorDia = []\n",
        "\n",
        "            for i in range(7):  # Corrección de indentación\n",
        "                km = int(input(\"Día \" + str(i + 1) + \": \"))\n",
        "                kilometroPorDia.append(km)\n",
        "\n",
        "            self.kilometros.append(kilometroPorDia)\n",
        "            nombre = input(\"Ingrese el siguiente nombre: \")\n",
        "\n",
        "    def calcularTotal(self):\n",
        "        for i in range(len(self.kilometros)):\n",
        "            total = sum(self.kilometros[i])\n",
        "            self.totalKilometros.append(total)\n",
        "\n",
        "    def imprimirConductoresKms(self):\n",
        "        print(\"\\nEl resumen de los conductores y kilómetros totales es:\")\n",
        "        for i in range(len(self.nombre)):\n",
        "            print(\"Conductor:\", self.nombre[i], \" - Total de kilómetros:\", self.totalKilometros[i])\n",
        "\n",
        "    def listadeResumen(self):\n",
        "        print(\"\\nLista de los kilómetros recorridos:\")\n",
        "        print(\"Nombre   L   M   M   J   V   S   D   Total\")\n",
        "        for i in range(len(self.nombre)):  # Corrección de atributo\n",
        "            linea = self.nombre[i] + \"   \"\n",
        "            for j in range(7):\n",
        "                linea += str(self.kilometros[i][j]) + \"   \"\n",
        "            linea += str(self.totalKilometros[i])\n",
        "            print(linea)\n",
        "\n",
        "class Conductores(Personas):\n",
        "    def __init__(self):\n",
        "        super().__init__()\n",
        "\n",
        "# Ejecución del programa\n",
        "obj = Conductores()  # Corrección de instancia\n",
        "obj.pedirDatos()  # Llamada a métodos con paréntesis\n",
        "obj.calcularTotal()\n",
        "obj.imprimirConductoresKms()\n",
        "obj.listadeResumen()\n"
      ]
    }
  ]
}