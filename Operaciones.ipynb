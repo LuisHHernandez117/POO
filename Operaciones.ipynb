{
  "nbformat": 4,
  "nbformat_minor": 0,
  "metadata": {
    "colab": {
      "provenance": [],
      "mount_file_id": "1lsAbcljUME-n5fm4Ek4aWZxKvTm_dG_g",
      "authorship_tag": "ABX9TyMHfI70FayHJNDUGmMarOFn",
      "include_colab_link": true
    },
    "kernelspec": {
      "name": "python3",
      "display_name": "Python 3"
    },
    "language_info": {
      "name": "python"
    }
  },
  "cells": [
    {
      "cell_type": "markdown",
      "metadata": {
        "id": "view-in-github",
        "colab_type": "text"
      },
      "source": [
        "<a href=\"https://colab.research.google.com/github/LuisHHernandez117/POO/blob/main/Operaciones.ipynb\" target=\"_parent\"><img src=\"https://colab.research.google.com/assets/colab-badge.svg\" alt=\"Open In Colab\"/></a>"
      ]
    },
    {
      "cell_type": "markdown",
      "source": [
        "Programa Hecho por Luis Hugo Pérez Hernandez | 06/02/2025"
      ],
      "metadata": {
        "id": "e33CBEumDRI3"
      }
    },
    {
      "cell_type": "code",
      "execution_count": null,
      "metadata": {
        "id": "zdO9xz0s_d-Q"
      },
      "outputs": [],
      "source": [
        "class Suma:\n",
        "  def __init_(self,valorA,valorB):\n",
        "    self.valorA=valorA\n",
        "    self.valorB=valorB\n",
        "    self.Total=0\n",
        "\n",
        "  def Suma(self):\n",
        "    self.Total=self.valorA+self.valorB\n",
        "\n",
        "  def imprimir(self):\n",
        "    print (\"La Suma de\",self.valorA,\"+\",self.valorB,\"=\",self.Total)\n",
        "\n",
        "valorA=int(input(\"Valor A:\"))\n",
        "valorB=int(input(\"ValorB:\"))\n",
        "\n",
        "obj=Suma()\n",
        "obj.suma()\n",
        "obj.imprimir()\n"
      ]
    },
    {
      "cell_type": "markdown",
      "source": [
        "Variante 2"
      ],
      "metadata": {
        "id": "6bqpezC7DHUD"
      }
    },
    {
      "cell_type": "code",
      "source": [
        "class Operaciones:\n",
        "  def __init_(self):\n",
        "    self.valorA=0\n",
        "    self.valorB=0\n",
        "    self.Total=0\n",
        "    self.msg=0\n",
        "\n",
        "  def suma(self):\n",
        "    self.msg = \"La Suma de\",self.valorA,\"+\",self.valorB,\"=\"\n",
        "    self.Total=self.valorA+self.valorB\n",
        "\n",
        "  def resta(self):\n",
        "    self.msg = \"La Resta de\",self.valorA,\"-\",self.valorB,\"=\"\n",
        "    self.Total=self.valorA-self.valorB\n",
        "\n",
        "  def multiplicacion(self):\n",
        "    self.msg = \"La Multiplicacion de\",self.valorA,\"*\",self.valorB,\"=\"\n",
        "    self.Total=self.valorA*self.valorB\n",
        "\n",
        "  def division(self):\n",
        "    self.msg = \"La Division de\",self.valorA,\"/\",self.valorB,\"=\"\n",
        "    self.Total=self.valorA/self.valorB\n",
        "\n",
        "  def imprimir(self):\n",
        "    print(self.msg,self.Total)\n",
        "\n",
        "\n"
      ],
      "metadata": {
        "id": "v6MgiT2FDJXb"
      },
      "execution_count": null,
      "outputs": []
    },
    {
      "cell_type": "code",
      "source": [
        "obj=Operaciones()\n",
        "obj.valorA=int(input(\"Ingresa el sumando:\"))\n",
        "obj.valorB=int(input(\"Ingresa el sumador:\"))\n",
        "obj.suma()\n",
        "obj.imprimir()\n",
        "obj.resta()\n",
        "obj.imprimir()\n",
        "obj.multiplicacion()\n",
        "obj.imprimir()\n",
        "obj.division()\n",
        "obj.imprimir()"
      ],
      "metadata": {
        "colab": {
          "base_uri": "https://localhost:8080/"
        },
        "id": "n4l573xcEBqt",
        "outputId": "1068a2da-7b51-4ade-a9f7-2d90287ecb3b"
      },
      "execution_count": null,
      "outputs": [
        {
          "output_type": "stream",
          "name": "stdout",
          "text": [
            "Ingresa el sumando:1\n",
            "Ingresa el sumador:2\n",
            "('La Suma de', 1, '+', 2, '=') 3\n",
            "('La Resta de', 1, '-', 2, '=') -1\n",
            "('La Multiplicacion de', 1, '*', 2, '=') 2\n",
            "('La Division de', 1, '/', 2, '=') 0.5\n"
          ]
        }
      ]
    }
  ]
}