{
  "nbformat": 4,
  "nbformat_minor": 0,
  "metadata": {
    "colab": {
      "provenance": [],
      "authorship_tag": "ABX9TyNo4YfXEQq3jr4sdY4wCBAB",
      "include_colab_link": true
    },
    "kernelspec": {
      "name": "python3",
      "display_name": "Python 3"
    },
    "language_info": {
      "name": "python"
    }
  },
  "cells": [
    {
      "cell_type": "markdown",
      "metadata": {
        "id": "view-in-github",
        "colab_type": "text"
      },
      "source": [
        "<a href=\"https://colab.research.google.com/github/LuisHHernandez117/POO/blob/main/Operaciones.ipynb\" target=\"_parent\"><img src=\"https://colab.research.google.com/assets/colab-badge.svg\" alt=\"Open In Colab\"/></a>"
      ]
    },
    {
      "cell_type": "markdown",
      "source": [
        "Programa Hecho por Luis Hugo Pérez Hernandez | 06/02/2025"
      ],
      "metadata": {
        "id": "e33CBEumDRI3"
      }
    },
    {
      "cell_type": "code",
      "execution_count": null,
      "metadata": {
        "colab": {
          "base_uri": "https://localhost:8080/",
          "height": 315
        },
        "id": "zdO9xz0s_d-Q",
        "outputId": "a3f91f21-9ef6-4f7c-9bba-70bf5e214882"
      },
      "outputs": [
        {
          "output_type": "error",
          "ename": "AttributeError",
          "evalue": "'Suma' object has no attribute 'valorA'",
          "traceback": [
            "\u001b[0;31m---------------------------------------------------------------------------\u001b[0m",
            "\u001b[0;31mAttributeError\u001b[0m                            Traceback (most recent call last)",
            "\u001b[0;32m<ipython-input-11-4c534c4490d1>\u001b[0m in \u001b[0;36m<cell line: 0>\u001b[0;34m()\u001b[0m\n\u001b[1;32m     10\u001b[0m \u001b[0;34m\u001b[0m\u001b[0m\n\u001b[1;32m     11\u001b[0m \u001b[0mobj\u001b[0m\u001b[0;34m=\u001b[0m\u001b[0mSuma\u001b[0m\u001b[0;34m(\u001b[0m\u001b[0;34m)\u001b[0m\u001b[0;34m\u001b[0m\u001b[0;34m\u001b[0m\u001b[0m\n\u001b[0;32m---> 12\u001b[0;31m \u001b[0mobj\u001b[0m\u001b[0;34m.\u001b[0m\u001b[0msuma\u001b[0m\u001b[0;34m(\u001b[0m\u001b[0;34m)\u001b[0m\u001b[0;34m\u001b[0m\u001b[0;34m\u001b[0m\u001b[0m\n\u001b[0m\u001b[1;32m     13\u001b[0m \u001b[0mobj\u001b[0m\u001b[0;34m.\u001b[0m\u001b[0mimprimir\u001b[0m\u001b[0;34m(\u001b[0m\u001b[0;34m)\u001b[0m\u001b[0;34m\u001b[0m\u001b[0;34m\u001b[0m\u001b[0m\n",
            "\u001b[0;32m<ipython-input-11-4c534c4490d1>\u001b[0m in \u001b[0;36msuma\u001b[0;34m(self)\u001b[0m\n\u001b[1;32m      5\u001b[0m     \u001b[0mself\u001b[0m\u001b[0;34m.\u001b[0m\u001b[0mTotal\u001b[0m\u001b[0;34m=\u001b[0m\u001b[0;36m0\u001b[0m\u001b[0;34m\u001b[0m\u001b[0;34m\u001b[0m\u001b[0m\n\u001b[1;32m      6\u001b[0m   \u001b[0;32mdef\u001b[0m \u001b[0msuma\u001b[0m\u001b[0;34m(\u001b[0m\u001b[0mself\u001b[0m\u001b[0;34m)\u001b[0m\u001b[0;34m:\u001b[0m\u001b[0;34m\u001b[0m\u001b[0;34m\u001b[0m\u001b[0m\n\u001b[0;32m----> 7\u001b[0;31m     \u001b[0mself\u001b[0m\u001b[0;34m.\u001b[0m\u001b[0mTotal\u001b[0m\u001b[0;34m=\u001b[0m\u001b[0mself\u001b[0m\u001b[0;34m.\u001b[0m\u001b[0mvalorA\u001b[0m\u001b[0;34m+\u001b[0m\u001b[0mself\u001b[0m\u001b[0;34m.\u001b[0m\u001b[0mvalorB\u001b[0m\u001b[0;34m\u001b[0m\u001b[0;34m\u001b[0m\u001b[0m\n\u001b[0m\u001b[1;32m      8\u001b[0m   \u001b[0;32mdef\u001b[0m \u001b[0mimprimir\u001b[0m\u001b[0;34m(\u001b[0m\u001b[0mself\u001b[0m\u001b[0;34m)\u001b[0m\u001b[0;34m:\u001b[0m\u001b[0;34m\u001b[0m\u001b[0;34m\u001b[0m\u001b[0m\n\u001b[1;32m      9\u001b[0m     \u001b[0mprint\u001b[0m\u001b[0;34m(\u001b[0m\u001b[0;34m\"El total es\"\u001b[0m\u001b[0;34m,\u001b[0m\u001b[0mTotal\u001b[0m\u001b[0;34m)\u001b[0m\u001b[0;34m\u001b[0m\u001b[0;34m\u001b[0m\u001b[0m\n",
            "\u001b[0;31mAttributeError\u001b[0m: 'Suma' object has no attribute 'valorA'"
          ]
        }
      ],
      "source": [
        "class Suma:\n",
        "  def __init_(valorA,valorB):\n",
        "    self.valorA=valorA\n",
        "    self.valorB=valorB\n",
        "    self.Total=0\n",
        "  def suma(self):\n",
        "    self.Total=self.valorA+self.valorB\n",
        "  def imprimir(self):\n",
        "    print(\"El total es\",Total)\n",
        "\n",
        "obj=Suma()\n",
        "obj.suma()\n",
        "obj.imprimir()\n"
      ]
    },
    {
      "cell_type": "markdown",
      "source": [
        "Variante 2"
      ],
      "metadata": {
        "id": "6bqpezC7DHUD"
      }
    },
    {
      "cell_type": "code",
      "source": [
        "class Operaciones:\n",
        "  def __init_(self):\n",
        "    self.valorA=0\n",
        "    self.valorB=0\n",
        "    self.Total=0\n",
        "    self.msg=0\n",
        "\n",
        "  def suma(self):\n",
        "    self.msg = \"La Suma de\",self.valorA,\"+\",self.valorB,\"=\"\n",
        "    self.Total=self.valorA+self.valorB\n",
        "\n",
        "  def resta(self):\n",
        "    self.msg = \"La Resta de\",self.valorA,\"-\",self.valorB,\"=\"\n",
        "    self.Total=self.valorA-self.valorB\n",
        "\n",
        "  def multiplicacion(self):\n",
        "    self.msg = \"La Multiplicacion de\",self.valorA,\"*\",self.valorB,\"=\"\n",
        "    self.Total=self.valorA*self.valorB\n",
        "\n",
        "  def division(self):\n",
        "    self.msg = \"La Division de\",self.valorA,\"/\",self.valorB,\"=\"\n",
        "    self.Total=self.valorA/self.valorB\n",
        "\n",
        "  def imprimir(self):\n",
        "    print(self.msg,self.Total)\n",
        "\n",
        "\n"
      ],
      "metadata": {
        "id": "v6MgiT2FDJXb"
      },
      "execution_count": null,
      "outputs": []
    },
    {
      "cell_type": "code",
      "source": [
        "obj=Operaciones()\n",
        "obj.valorA=int(input(\"Ingresa el sumando:\"))\n",
        "obj.valorB=int(input(\"Ingresa el sumador:\"))\n",
        "obj.suma()\n",
        "obj.imprimir()\n",
        "obj.resta()\n",
        "obj.imprimir()\n",
        "obj.multiplicacion()\n",
        "obj.imprimir()\n",
        "obj.division()\n",
        "obj.imprimir()"
      ],
      "metadata": {
        "colab": {
          "base_uri": "https://localhost:8080/"
        },
        "id": "n4l573xcEBqt",
        "outputId": "1068a2da-7b51-4ade-a9f7-2d90287ecb3b"
      },
      "execution_count": null,
      "outputs": [
        {
          "output_type": "stream",
          "name": "stdout",
          "text": [
            "Ingresa el sumando:1\n",
            "Ingresa el sumador:2\n",
            "('La Suma de', 1, '+', 2, '=') 3\n",
            "('La Resta de', 1, '-', 2, '=') -1\n",
            "('La Multiplicacion de', 1, '*', 2, '=') 2\n",
            "('La Division de', 1, '/', 2, '=') 0.5\n"
          ]
        }
      ]
    }
  ]
}