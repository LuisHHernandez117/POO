{
  "nbformat": 4,
  "nbformat_minor": 0,
  "metadata": {
    "colab": {
      "provenance": [],
      "authorship_tag": "ABX9TyO6cyfwmfjRt2WTnBhMxITH",
      "include_colab_link": true
    },
    "kernelspec": {
      "name": "python3",
      "display_name": "Python 3"
    },
    "language_info": {
      "name": "python"
    }
  },
  "cells": [
    {
      "cell_type": "markdown",
      "metadata": {
        "id": "view-in-github",
        "colab_type": "text"
      },
      "source": [
        "<a href=\"https://colab.research.google.com/github/LuisHHernandez117/POO/blob/main/CinePrecios.ipynb\" target=\"_parent\"><img src=\"https://colab.research.google.com/assets/colab-badge.svg\" alt=\"Open In Colab\"/></a>"
      ]
    },
    {
      "cell_type": "code",
      "execution_count": null,
      "metadata": {
        "id": "yXQ105iv7JEG",
        "collapsed": true
      },
      "outputs": [],
      "source": [
        "class Cine:\n",
        "  def __init__(self):\n",
        "    self.precios=[[\"Entrada\",45],[\"EntradaNiño\",30],[\"Palomitas\",80],[\"Combo1\",245],[\"Combo3\",120]]\n",
        "    self.entradasVendidas=[]\n",
        "    self.productosVendidos=[]\n",
        "\n",
        "  def entradasTotal(self):\n",
        "    totalNormal=int(input(\"Cuantas entradas  se compraron: \"))\n",
        "    totalNiños=int(input(\"Cuantas entradas de niño se compraron: \"))\n",
        "\n",
        "    self.entradasVendidas.append(\"Entrada normal\", totalNormal)\n",
        "    self.entradasVendidas.append(\"Entrada de Niño\",totalNiños)\n",
        "    totalEntradas=totalNormal+totalNiños\n",
        "    totalPrecios=(totalNormal*self.precios[\"Entrada\"])+(totalNiños*self.precios[\"EntradaNiño\"])\n",
        "    print(\"El total de entrasdas normales es:\",totalNormal)\n",
        "    print(\"El total de entradas de niño es:\",totalNiños)\n",
        "    print(\"El total de entradas es:\",totalEntradas)\n",
        "    print(\"El total de entradas es:\",totalPrecios)\n",
        "\n",
        "  def productosComprados(self):\n",
        "    totalPalomitas=int(input(\"Cuantas palomitas se compraron: \"))\n",
        "    totalCombo1=int(input(\"Cuantos combos 1 se compraron: \"))\n",
        "    totalCombo3=int(input(\"Cuantos combos 3 se compraron: \"))\n",
        "\n",
        "    self.productosVendidos.append(\"Palomitas\",totalPalomitas)\n",
        "    self.productosVendidos.append(\"Combo1\",totalCombo1)\n",
        "    self.productosVendidos.append(\"Combo3\",totalCombo3)\n",
        "    totalProductos=totalPalomitas+totalCombo1+totalCombo3\n",
        "    totalPrecios=(totalPalomitas*self.precios[\"Palomitas\"])+(totalCombo1*self.precios[\"Combo1\"])+(totalCombo3*self.precios[\"Combo3\"])\n",
        "    print(\"El total de palomitas es:\",totalPalomitas)\n",
        "    print(\"El total de combos 1 es:\",totalCombo1)\n",
        "    print(\"El total de combos 3 es:\",totalCombo3)\n",
        "    print(\"El total de productos es:\",totalProductos)\n",
        "    print(\"El total de productos es:\",totalPrecios)\n",
        "\n",
        "obj=Cine()\n",
        "obj.entradasTotal()\n",
        "obj.productosComprados()"
      ]
    }
  ]
}