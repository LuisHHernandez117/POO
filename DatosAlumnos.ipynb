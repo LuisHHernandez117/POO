{
  "nbformat": 4,
  "nbformat_minor": 0,
  "metadata": {
    "colab": {
      "provenance": [],
      "authorship_tag": "ABX9TyPo7AsGFUpoCKhwAfeUT1k9",
      "include_colab_link": true
    },
    "kernelspec": {
      "name": "python3",
      "display_name": "Python 3"
    },
    "language_info": {
      "name": "python"
    }
  },
  "cells": [
    {
      "cell_type": "markdown",
      "metadata": {
        "id": "view-in-github",
        "colab_type": "text"
      },
      "source": [
        "<a href=\"https://colab.research.google.com/github/LuisHHernandez117/POO/blob/main/DatosAlumnos.ipynb\" target=\"_parent\"><img src=\"https://colab.research.google.com/assets/colab-badge.svg\" alt=\"Open In Colab\"/></a>"
      ]
    },
    {
      "cell_type": "code",
      "execution_count": null,
      "metadata": {
        "id": "zL-EmXn7kS2h"
      },
      "outputs": [],
      "source": [
        "class Personas:\n",
        "  def __init__(self,nombre,edad):\n",
        "     self.nombre=nombre\n",
        "     self.edad=edad\n",
        "\n",
        "class Alumno(Personas):\n",
        "  def __init__(self,nombre,edad):\n",
        "    super().__init__(nombre,edad)\n",
        "\n",
        "  def ingresarAlumnos(self):\n",
        "    alumnos=[]\n",
        "    nombre=input(\"Ingrese el nombre del alumno: \")\n",
        "    while nombre != \"*\":\n",
        "      edad=int(input(\"Ingrese la edad del alumno: \"))\n",
        "      alumno =Alumno (nombre,edad)\n",
        "      alumnos.append(alumno)\n",
        "      nombre=input(\"Ingrese el nombre del alumno: \")\n",
        "    return alumnos\n",
        "\n",
        "  def imprimirAlumnos(self,alumnos):\n",
        "    print(\"Lista de alumnos:\")\n",
        "    for alumno in alumnos:\n",
        "      if alumno.edad >= 18:\n",
        "        print(\"Nombre\",alumno.nombre,\"Edad\",alumno.edad)\n",
        "\n",
        "  def losDosMayores(self,alumnos):\n",
        "    print(\"Los dos alumnos mayores son:\")\n",
        "    if len(alumnos) < 2:\n",
        "      print(\"No hay suficientes alumnos para mostrar dos mayores\")\n",
        "    else:\n",
        "      if alumnos[0].edad > alumnos[1].edad:\n",
        "            mayor1 = alumnos[0]\n",
        "            mayor2 = alumnos[1]\n",
        "      else:\n",
        "            mayor1 = alumnos[1]\n",
        "            mayor2 = alumnos[0]\n",
        "\n",
        "      for i in range(2,len(alumnos)):\n",
        "        alumno=alumnos[i]\n",
        "        if alumno.edad > mayor1.edad:\n",
        "          mayor2 = mayor1\n",
        "          mayor1 = alumno\n",
        "        elif alumno.edad > mayor2.edad:\n",
        "          mayor2 = alumno\n",
        "\n",
        "\n",
        "obj=Alumno(\"\",0)\n",
        "alumnos=obj.ingresarAlumnos()\n",
        "obj.imprimirAlumnos(alumnos)\n",
        "obj.losDosMayores(alumnos)"
      ]
    }
  ]
}