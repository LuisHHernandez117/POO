{
  "nbformat": 4,
  "nbformat_minor": 0,
  "metadata": {
    "colab": {
      "provenance": [],
      "authorship_tag": "ABX9TyO8x8+MnothpOg6Wtdu/qS+",
      "include_colab_link": true
    },
    "kernelspec": {
      "name": "python3",
      "display_name": "Python 3"
    },
    "language_info": {
      "name": "python"
    }
  },
  "cells": [
    {
      "cell_type": "markdown",
      "metadata": {
        "id": "view-in-github",
        "colab_type": "text"
      },
      "source": [
        "<a href=\"https://colab.research.google.com/github/LuisHHernandez117/POO/blob/main/AlumnosArreglos.ipynb\" target=\"_parent\"><img src=\"https://colab.research.google.com/assets/colab-badge.svg\" alt=\"Open In Colab\"/></a>"
      ]
    },
    {
      "cell_type": "code",
      "execution_count": null,
      "metadata": {
        "colab": {
          "base_uri": "https://localhost:8080/"
        },
        "id": "LzjSnpIv5k2S",
        "outputId": "9d51c32a-80d7-4edb-a4a9-9a19b9ce11d4"
      },
      "outputs": [
        {
          "output_type": "stream",
          "name": "stdout",
          "text": [
            "Ingrese el número de control24590371\n",
            "Ingrese el nombre del alumnosHernan\n",
            "Ingrese la calificación90\n",
            "[24590371, 'Hernan', '90']\n",
            "[[24590371, 'Hernan', '90']]\n"
          ]
        }
      ],
      "source": [
        "n=[]\n",
        "alumnos=[]\n",
        "op=\"s\"\n",
        "while op==\"s\" or op==\"S\":\n",
        "  for i in range(1,4):\n",
        "    if i == 1:\n",
        "      n.append(int(input(\"Ingrese el número de control\")))\n",
        "    elif i == 2:\n",
        "      n.append(input(\"Ingrese el nombre del alumnos\"))\n",
        "    else:\n",
        "      n.append(input(\"Ingrese la calificación\"))\n",
        "  alumnos.append(n)\n",
        "  n=[]\n",
        "  op=input(\"¿Desea agregar otro alumno?s/n: \")\n",
        "\n",
        "\n",
        "\n",
        "#principal\n",
        "print(n)\n",
        "print(alumnos)"
      ]
    },
    {
      "cell_type": "code",
      "source": [
        "class Alumnos:\n",
        "  def __init__(self):\n",
        "    r=0\n",
        "    self.alumnos=[]\n",
        "  def pideDatos():\n",
        "    n=[]\n",
        "    n.append(int(input(\"Ingrese el número de control: \")))\n",
        "    n.append(input(\"Ingrese el nombre del alumno: \"))\n",
        "    n.append(input(\"Ingrese la calificacion: \"))\n",
        "    return (n)\n",
        "\n",
        "  def agregaAlumnos(self,n):\n",
        "    self.alumnos.append(n)\n",
        "\n",
        "  def capturaAlumnos(self):\n",
        "    op=\"s\"\n",
        "    while op==\"s\" or op==\"S\":\n",
        "      n=self.datos()\n",
        "      self.agregaAlumnos(n)\n",
        "      op=input(\"¿Desea agregar otro alumno?s/n: \")\n",
        "\n",
        "  def mostrarAlumnos(self):\n",
        "    print(self.alumnos)\n",
        "\n",
        "obj=Alumnos()\n",
        "obj.capturaAlumnos()\n",
        "obj.mostrarAlumnos()"
      ],
      "metadata": {
        "id": "h6dgnzdqAb_5"
      },
      "execution_count": null,
      "outputs": []
    }
  ]
}