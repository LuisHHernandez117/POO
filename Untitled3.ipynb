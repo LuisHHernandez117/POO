{
  "nbformat": 4,
  "nbformat_minor": 0,
  "metadata": {
    "colab": {
      "provenance": [],
      "authorship_tag": "ABX9TyNEyYOTSZI0M1U4vcvMm5Jo",
      "include_colab_link": true
    },
    "kernelspec": {
      "name": "python3",
      "display_name": "Python 3"
    },
    "language_info": {
      "name": "python"
    }
  },
  "cells": [
    {
      "cell_type": "markdown",
      "metadata": {
        "id": "view-in-github",
        "colab_type": "text"
      },
      "source": [
        "<a href=\"https://colab.research.google.com/github/LuisHHernandez117/POO/blob/main/Untitled3.ipynb\" target=\"_parent\"><img src=\"https://colab.research.google.com/assets/colab-badge.svg\" alt=\"Open In Colab\"/></a>"
      ]
    },
    {
      "cell_type": "markdown",
      "source": [
        "Operacioines Programa hecho por Luis Hugo Pérez Hernandez |13-02-2025|"
      ],
      "metadata": {
        "id": "uFUe2SMp-jKm"
      }
    },
    {
      "cell_type": "code",
      "execution_count": 19,
      "metadata": {
        "colab": {
          "base_uri": "https://localhost:8080/"
        },
        "id": "Uw-7xgh953qG",
        "outputId": "029737a6-f685-445c-d284-1d367a8e852e"
      },
      "outputs": [
        {
          "output_type": "stream",
          "name": "stdout",
          "text": [
            "Ingresa el primer numero:2\n",
            "Ingresa el segundo numero:3\n",
            "La suma es: 5\n"
          ]
        }
      ],
      "source": [
        "class Operaciones:\n",
        "  def __init__(self,a,b):\n",
        "    self.a=a\n",
        "    self.b=b\n",
        "  def suma(self):\n",
        "    self.r=self.a+self.b\n",
        "    return (self.r)\n",
        "a=int(input(\"Ingresa el primer numero:\"))\n",
        "b=int(input(\"Ingresa el segundo numero:\"))\n",
        "\n",
        "obj=Operaciones(a,b)\n",
        "r=obj.suma()\n",
        "print (\"La suma es:\",r)"
      ]
    },
    {
      "cell_type": "code",
      "source": [],
      "metadata": {
        "id": "hFYX7BHR6COo"
      },
      "execution_count": null,
      "outputs": []
    }
  ]
}