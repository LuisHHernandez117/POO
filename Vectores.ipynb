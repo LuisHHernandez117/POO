{
  "nbformat": 4,
  "nbformat_minor": 0,
  "metadata": {
    "colab": {
      "provenance": [],
      "authorship_tag": "ABX9TyMAb4y/zJOf7qvDNE6AEwHq",
      "include_colab_link": true
    },
    "kernelspec": {
      "name": "python3",
      "display_name": "Python 3"
    },
    "language_info": {
      "name": "python"
    }
  },
  "cells": [
    {
      "cell_type": "markdown",
      "metadata": {
        "id": "view-in-github",
        "colab_type": "text"
      },
      "source": [
        "<a href=\"https://colab.research.google.com/github/LuisHHernandez117/POO/blob/main/Vectores.ipynb\" target=\"_parent\"><img src=\"https://colab.research.google.com/assets/colab-badge.svg\" alt=\"Open In Colab\"/></a>"
      ]
    },
    {
      "cell_type": "markdown",
      "source": [
        "Vectores | Hecho por Luis Hugo Pérez Hernadez | 21-02-2025"
      ],
      "metadata": {
        "id": "Rct1mEQlVL2V"
      }
    },
    {
      "cell_type": "code",
      "execution_count": 20,
      "metadata": {
        "colab": {
          "base_uri": "https://localhost:8080/"
        },
        "id": "Lgjhjc6DVFfR",
        "outputId": "2c6b7d37-163b-4fef-d5d5-4330d5f145a5"
      },
      "outputs": [
        {
          "output_type": "stream",
          "name": "stdout",
          "text": [
            "23\n",
            "15\n"
          ]
        }
      ],
      "source": [
        "import random\n",
        "x= \"Hola mundo voy reprobar\" #Vector\n",
        "print(len(x))\n",
        "#y=x.find('l')\n",
        "#y=x.replace(\"a\",\"e\")\n",
        "l=len(x)\n",
        "u= random.randint(0,l - 1)\n",
        "print(u)"
      ]
    }
  ]
}