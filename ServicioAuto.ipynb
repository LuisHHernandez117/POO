{
  "nbformat": 4,
  "nbformat_minor": 0,
  "metadata": {
    "colab": {
      "provenance": [],
      "authorship_tag": "ABX9TyMrJtWjD65Xb1JLUQ2CWUP1",
      "include_colab_link": true
    },
    "kernelspec": {
      "name": "python3",
      "display_name": "Python 3"
    },
    "language_info": {
      "name": "python"
    }
  },
  "cells": [
    {
      "cell_type": "markdown",
      "metadata": {
        "id": "view-in-github",
        "colab_type": "text"
      },
      "source": [
        "<a href=\"https://colab.research.google.com/github/LuisHHernandez117/POO/blob/main/ServicioAuto.ipynb\" target=\"_parent\"><img src=\"https://colab.research.google.com/assets/colab-badge.svg\" alt=\"Open In Colab\"/></a>"
      ]
    },
    {
      "cell_type": "code",
      "execution_count": null,
      "metadata": {
        "id": "QVMTWlLpKYll"
      },
      "outputs": [],
      "source": [
        "    def _init_(self):\n",
        "        pass\n",
        "    def costos(self):\n",
        "        c=[\n",
        "        [1,\"Servicio de Frenos\",300],\n",
        "        [2,\"Afinacion\",600],\n",
        "        [3,\"Cambio de Aceite\",250],\n",
        "        [4,\"Lavado de Motor\",150]\n",
        "        ]\n",
        "        return c\n",
        "class Puestos():\n",
        "    def _init_(self):\n",
        "        pass\n",
        "    def actividades(self):\n",
        "        a=[[1001,\"Mecanico\",400],\n",
        "        [1002,\"Auxiliar M\",300],\n",
        "        [1003,\"Lavador\",250]]\n",
        "        return a\n",
        "class Cobros(Servicios,Puestos):\n",
        "    def _init_(self):\n",
        "        pass\n",
        "    def imprime(self,x):\n",
        "        for i in range(len(x)):\n",
        "            print (x[i][0],x[i][1],x[i][2])\n",
        "    def pago(self,serv,act):\n",
        "        c=self.costos()\n",
        "        a=self.actividades()\n",
        "        for i in range(len(c)):\n",
        "            if c[i][0]==serv:\n",
        "                cservicio=c[i][2]\n",
        "        for i in range(len(a)):\n",
        "            if a[i][0]==act:\n",
        "                activ=a[i][2]\n",
        "        return (cservicio+activ)\n",
        "    def cotiza(self):\n",
        "        self.imprime(self.costos())\n",
        "        serv=int(input(\"¿Que servicio se realizo?\"))\n",
        "        print()\n",
        "        self.imprime(self.actividades())\n",
        "        act=int(input(\"¿Quien lo realizo?\"))\n",
        "        print(\"Total a pagar:\",self.pago(serv,act))\n",
        "\n",
        "obj=Cobros()\n",
        "obj.cotiza()"
      ]
    }
  ]
}