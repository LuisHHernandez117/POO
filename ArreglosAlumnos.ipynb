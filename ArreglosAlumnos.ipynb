{
  "nbformat": 4,
  "nbformat_minor": 0,
  "metadata": {
    "colab": {
      "provenance": [],
      "authorship_tag": "ABX9TyNlY0SmVU93ECWu4ydfViek",
      "include_colab_link": true
    },
    "kernelspec": {
      "name": "python3",
      "display_name": "Python 3"
    },
    "language_info": {
      "name": "python"
    }
  },
  "cells": [
    {
      "cell_type": "markdown",
      "metadata": {
        "id": "view-in-github",
        "colab_type": "text"
      },
      "source": [
        "<a href=\"https://colab.research.google.com/github/LuisHHernandez117/POO/blob/main/ArreglosAlumnos.ipynb\" target=\"_parent\"><img src=\"https://colab.research.google.com/assets/colab-badge.svg\" alt=\"Open In Colab\"/></a>"
      ]
    },
    {
      "cell_type": "code",
      "execution_count": null,
      "metadata": {
        "id": "okVQeoxkF1GF"
      },
      "outputs": [],
      "source": [
        "alumnos=[[1,\"D\",70,60,80],[2,\"P\",100,90,90],[2,\"M\",90,85,76]]\n",
        "alumnosP=[]\n",
        "x=[]\n",
        "for i in range(len(alumnos)):\n",
        "  for j in range(len(alumnos[0])):\n",
        "    x.append(alumnos[i],[j])\n",
        "  p=(x[2]+x[3]+x[4])/3\n",
        "  x.append(p)\n",
        "  alumnosP.append(x)\n",
        "  x=[]\n",
        "print(alumnosP)\n",
        "for i in range(len(alumnos)):\n",
        "  if alumnosP[1][5]>=70 and alumnosP[i][2]>=70 and alumnosP[i][3]>=70 and alumnosP[i][4]>=70\n",
        "    print(alumnosP[i],[1],\"Aprobo\")\n",
        "  else:\n",
        "     print(alumnosP[i],[1],\"Reprobo\")\n",
        "#print(alumnos[0],[i])"
      ]
    }
  ]
}