{
  "nbformat": 4,
  "nbformat_minor": 0,
  "metadata": {
    "colab": {
      "provenance": [],
      "authorship_tag": "ABX9TyOw1vRNP0Zq5ksGZZ0Nuvs/",
      "include_colab_link": true
    },
    "kernelspec": {
      "name": "python3",
      "display_name": "Python 3"
    },
    "language_info": {
      "name": "python"
    }
  },
  "cells": [
    {
      "cell_type": "markdown",
      "metadata": {
        "id": "view-in-github",
        "colab_type": "text"
      },
      "source": [
        "<a href=\"https://colab.research.google.com/github/LuisHHernandez117/POO/blob/main/Convivio.ipynb\" target=\"_parent\"><img src=\"https://colab.research.google.com/assets/colab-badge.svg\" alt=\"Open In Colab\"/></a>"
      ]
    },
    {
      "cell_type": "code",
      "execution_count": null,
      "metadata": {
        "id": "8QIAOCtw4oUt"
      },
      "outputs": [],
      "source": [
        "n class Convivio:\n",
        "  def __init__(self):\n",
        "    self.tInvitados=0\n",
        "    self.carbon=0\n",
        "    self.carne0=0\n",
        "    self.refrescos=0\n",
        "    self.hombre=0\n",
        "    self.mujer=0\n",
        "    self.complementos=25\n",
        "    self.coop=0\n",
        "    self.costosA=160\n",
        "    self.costosB=196\n",
        "    self.costosT=25\n",
        "    self.costosCh=25\n",
        "    self.costosRef=22\n",
        "    self.costosPol=50\n",
        "    self.costosSal=30\n",
        "\n",
        "  def invitados(self):\n",
        "    self.hombre=int(iput(\"Cantidad de Hombres:\"))\n",
        "    self.mujer=int(input(\"Cantidad de Mujeres:\"))\n",
        "    self.tInvitados=self.hombre+self.mujer\n",
        "    print(\"Total de invitados:\",self.tInvitados)\n",
        "\n",
        "  def cantCarne(self):\n",
        "    self.carne=self.h*.8 + self.m*.5\n",
        "    self.costosA=self.carne*.30\n",
        "    self.costosB=self.carne*.30\n",
        "    self.costosCh=self.carne*.15\n",
        "    self.costosPol=self.carne*.15\n",
        "    self.costosSal=self.carne*.10\n",
        "\n",
        "  def cantComp(self):\n",
        "    n=random.int(1,self.tInvitado)\n"
      ]
    }
  ]
}