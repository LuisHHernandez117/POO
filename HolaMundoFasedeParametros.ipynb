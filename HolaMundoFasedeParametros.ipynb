{
  "nbformat": 4,
  "nbformat_minor": 0,
  "metadata": {
    "colab": {
      "provenance": [],
      "authorship_tag": "ABX9TyP5BvJJ6G7jB88UDtRBUC22",
      "include_colab_link": true
    },
    "kernelspec": {
      "name": "python3",
      "display_name": "Python 3"
    },
    "language_info": {
      "name": "python"
    }
  },
  "cells": [
    {
      "cell_type": "markdown",
      "metadata": {
        "id": "view-in-github",
        "colab_type": "text"
      },
      "source": [
        "<a href=\"https://colab.research.google.com/github/LuisHHernandez117/POO/blob/main/HolaMundoFasedeParametros.ipynb\" target=\"_parent\"><img src=\"https://colab.research.google.com/assets/colab-badge.svg\" alt=\"Open In Colab\"/></a>"
      ]
    },
    {
      "cell_type": "markdown",
      "source": [
        "Programa Hola mundo Fase de parametros | Hecho por Luis Hugo Pérez Hernandez |25-02-2025"
      ],
      "metadata": {
        "id": "vSAo3Hk82aE0"
      }
    },
    {
      "cell_type": "code",
      "execution_count": 20,
      "metadata": {
        "id": "zkB-pIc6ukzj"
      },
      "outputs": [],
      "source": [
        "class holaMundo:\n",
        "  def __init(self):\n",
        "    self.w=0\n",
        "    self.z=0\n",
        "\n",
        "  def a(self):\n",
        "    r=\"hola\"\n",
        "    return (r)\n",
        "\n",
        "  def b(self):\n",
        "    n=input(\"Ingresa tu nombre tilin\")\n",
        "    return (n)\n",
        "  def c(self,r,n):\n",
        "    print(r+\" \"+ n +\" \"+ \"Que tengas un buen dia\")\n",
        "\n"
      ]
    },
    {
      "cell_type": "markdown",
      "source": [
        "variante con \"x\""
      ],
      "metadata": {
        "id": "RwUWl16O2uVh"
      }
    },
    {
      "cell_type": "code",
      "source": [
        "x=holaMundo()\n",
        "r=x.a()\n",
        "n=x.b()\n",
        "x.c(r,n)"
      ],
      "metadata": {
        "colab": {
          "base_uri": "https://localhost:8080/"
        },
        "id": "2Nx9dozt2st9",
        "outputId": "8fd04c99-b3f6-4427-c747-b128c2a5793e"
      },
      "execution_count": 27,
      "outputs": [
        {
          "output_type": "stream",
          "name": "stdout",
          "text": [
            "Ingresa tu nombre tilinluis\n",
            "hola luis Que tengas un buen dia\n"
          ]
        }
      ]
    },
    {
      "cell_type": "code",
      "source": [
        "x=holaMundo()\n",
        "x.c(x.a(),x.b())"
      ],
      "metadata": {
        "colab": {
          "base_uri": "https://localhost:8080/"
        },
        "id": "VTDTrkO_41fk",
        "outputId": "53f93633-95cd-49c8-c60b-7e148ed2ab40"
      },
      "execution_count": 29,
      "outputs": [
        {
          "output_type": "stream",
          "name": "stdout",
          "text": [
            "Ingresa tu nombre tilinluis\n",
            "hola luis Que tengas un buen dia\n"
          ]
        }
      ]
    },
    {
      "cell_type": "code",
      "source": [
        "obj=holaMundo()\n",
        "r=obj.a()\n",
        "n=obj.b()\n",
        "obj.c(r,n)"
      ],
      "metadata": {
        "colab": {
          "base_uri": "https://localhost:8080/"
        },
        "id": "mGRkLqvdzqIL",
        "outputId": "dd5c6eaf-e9d1-4887-be09-b3b5a1126cea"
      },
      "execution_count": 19,
      "outputs": [
        {
          "output_type": "stream",
          "name": "stdout",
          "text": [
            "Ingresa tu nombre tilinluis\n",
            "hola luis Que tengas un buen dia\n"
          ]
        }
      ]
    }
  ]
}