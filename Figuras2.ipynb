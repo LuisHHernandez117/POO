{
  "nbformat": 4,
  "nbformat_minor": 0,
  "metadata": {
    "colab": {
      "provenance": [],
      "authorship_tag": "ABX9TyNumMv04wtUsGijukYxILpR",
      "include_colab_link": true
    },
    "kernelspec": {
      "name": "python3",
      "display_name": "Python 3"
    },
    "language_info": {
      "name": "python"
    }
  },
  "cells": [
    {
      "cell_type": "markdown",
      "metadata": {
        "id": "view-in-github",
        "colab_type": "text"
      },
      "source": [
        "<a href=\"https://colab.research.google.com/github/LuisHHernandez117/POO/blob/main/Figuras2.ipynb\" target=\"_parent\"><img src=\"https://colab.research.google.com/assets/colab-badge.svg\" alt=\"Open In Colab\"/></a>"
      ]
    },
    {
      "cell_type": "markdown",
      "source": [
        "Programa Figuras hecho por Luis Hugo Pérez Hernandez |13-02-2025|"
      ],
      "metadata": {
        "id": "W8oQUVSQsPSx"
      }
    },
    {
      "cell_type": "code",
      "execution_count": 6,
      "metadata": {
        "colab": {
          "base_uri": "https://localhost:8080/"
        },
        "id": "LGRx1n_GDpC4",
        "outputId": "b834e40e-ea1a-4659-fc5b-e7d26e3a8ce3"
      },
      "outputs": [
        {
          "output_type": "stream",
          "name": "stdout",
          "text": [
            "Que deseas calcular :\n",
            "1.Circulo\n",
            "2.Trapecio\n",
            "3.Rectangulo\n",
            "Ingrese la opcion1\n",
            "Ingrese el radio3\n",
            "El area del circulo es= 28.2744\n"
          ]
        }
      ],
      "source": [
        "class Figuras:\n",
        "  def __init__(self):\n",
        "    self.a=0\n",
        "    self.b=0\n",
        "    self.c=0\n",
        "  def menu(self):\n",
        "    print(\"Que deseas calcular :\")\n",
        "    print(\"1.Circulo\")\n",
        "    print(\"2.Trapecio\")\n",
        "    print(\"3.Rectangulo\")\n",
        "    r=int(input(\"Ingrese la opcion\"))\n",
        "    return(r)\n",
        "\n",
        "  def circulo(self,r):\n",
        "    area= (3.1416 * r ** 2)\n",
        "    return(area)\n",
        "\n",
        "  def trapecio(self,b1,b2,h):\n",
        "    area= ((b1 + b2) *h) /2\n",
        "    return(area)\n",
        "\n",
        "  def rectangulo(self,b,h):\n",
        "    area=(b * h)\n",
        "    return(area)\n",
        "\n",
        "obj=Figuras()\n",
        "men=obj.menu()\n",
        "if men ==1:\n",
        "  obj.a=float(input(\"Ingrese el radio\"))\n",
        "  res=obj.circulo(obj.a)\n",
        "  print(\"El area del circulo es=\",res)\n",
        "elif men ==2:\n",
        "  obj.a=float(input(\"Ingrese la base 1\"))\n",
        "  obj.b=float(input(\"Ingrese la base 2\"))\n",
        "  obj.c=float(input(\"Ingrese la altura\"))\n",
        "  res=obj.trapecio(obj.a,obj.b,obj.c)\n",
        "  print(\"El area del trapecio es=\",res)\n",
        "elif men ==3:\n",
        "  obj.a=float(input(\"Ingrese la base\"))\n",
        "  obj.b=float(input(\"Ingrese la altrura\"))\n",
        "  res=obj.rectangulo(obj.a,obj.b)\n",
        "  print(\"El area del triangulo es=\",res)\n"
      ]
    }
  ]
}