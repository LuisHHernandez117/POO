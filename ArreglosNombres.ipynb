{
  "nbformat": 4,
  "nbformat_minor": 0,
  "metadata": {
    "colab": {
      "provenance": [],
      "authorship_tag": "ABX9TyOIHGICf0L3UZIeZR15okTJ",
      "include_colab_link": true
    },
    "kernelspec": {
      "name": "python3",
      "display_name": "Python 3"
    },
    "language_info": {
      "name": "python"
    }
  },
  "cells": [
    {
      "cell_type": "markdown",
      "metadata": {
        "id": "view-in-github",
        "colab_type": "text"
      },
      "source": [
        "<a href=\"https://colab.research.google.com/github/LuisHHernandez117/POO/blob/main/ArreglosNombres.ipynb\" target=\"_parent\"><img src=\"https://colab.research.google.com/assets/colab-badge.svg\" alt=\"Open In Colab\"/></a>"
      ]
    },
    {
      "cell_type": "markdown",
      "source": [
        "Arreglo Nombres"
      ],
      "metadata": {
        "id": "jixYkqzy4Ngr"
      }
    },
    {
      "cell_type": "code",
      "execution_count": 7,
      "metadata": {
        "colab": {
          "base_uri": "https://localhost:8080/"
        },
        "id": "mQKt8AV21rSn",
        "outputId": "c562b1eb-f680-45c6-c9b3-859b9508126f"
      },
      "outputs": [
        {
          "name": "stdout",
          "output_type": "stream",
          "text": [
            "Ingrese el numero del alumno5\n",
            "no spawneo\n",
            "Ingrese el numero del alumno2\n",
            "pablo\n",
            "Desea imprimir otro mas? s/nn\n"
          ]
        }
      ],
      "source": [
        "nombres=[\"chcuchito\",\"pepe\",\"pablo\"]\n",
        "opcion=\"s\"\n",
        "while opcion == \"s\":\n",
        "  try:\n",
        "    x=int(input(\"Ingrese el numero del alumno\"))\n",
        "    print(nombres[x])\n",
        "    input(\"Desea imprimir otro mas? s/n\")\n",
        "    break\n",
        "  except IndexError:\n",
        "    print(\"no spawneo el alumno del numero\",x)"
      ]
    }
  ]
}