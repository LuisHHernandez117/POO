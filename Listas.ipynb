{
  "nbformat": 4,
  "nbformat_minor": 0,
  "metadata": {
    "colab": {
      "provenance": [],
      "authorship_tag": "ABX9TyMzsGqPEBT1ITd8Yp0ffDhY",
      "include_colab_link": true
    },
    "kernelspec": {
      "name": "python3",
      "display_name": "Python 3"
    },
    "language_info": {
      "name": "python"
    }
  },
  "cells": [
    {
      "cell_type": "markdown",
      "metadata": {
        "id": "view-in-github",
        "colab_type": "text"
      },
      "source": [
        "<a href=\"https://colab.research.google.com/github/LuisHHernandez117/POO/blob/main/Listas.ipynb\" target=\"_parent\"><img src=\"https://colab.research.google.com/assets/colab-badge.svg\" alt=\"Open In Colab\"/></a>"
      ]
    },
    {
      "cell_type": "markdown",
      "source": [
        "Listas | Hecho por Luis Hugo Pérez Hernandez| 27-02-25"
      ],
      "metadata": {
        "id": "0pVzGAXpLXMF"
      }
    },
    {
      "cell_type": "code",
      "execution_count": 28,
      "metadata": {
        "colab": {
          "base_uri": "https://localhost:8080/"
        },
        "id": "GSYOKpw79c0U",
        "outputId": "4756f6c7-3139-4e83-b6fa-cb4651f4d32b"
      },
      "outputs": [
        {
          "output_type": "stream",
          "name": "stdout",
          "text": [
            "20\n",
            "41\n",
            "6\n",
            "18\n",
            "23\n",
            "20\n",
            "41\n",
            "6\n",
            "18\n",
            "23\n",
            "20\n",
            "41\n",
            "6\n",
            "18\n",
            "23\n"
          ]
        }
      ],
      "source": [
        "edades=[20,41,6,18,23]\n",
        "for edad in edades:\n",
        "  print (edad)\n",
        "\n",
        "for i in range(len(edades)):\n",
        "  print(edades[i])\n",
        "\n",
        "indice = 0\n",
        "while indice <len(edades):\n",
        "  print(edades[indice])\n",
        "  indice +=1"
      ]
    },
    {
      "cell_type": "code",
      "source": [
        "numeros =[1]\n",
        "numeros.append(10)\n",
        "numeros.append(5)\n",
        "numeros.append(3)\n",
        "print(numeros)"
      ],
      "metadata": {
        "colab": {
          "base_uri": "https://localhost:8080/"
        },
        "id": "EaAvzMC2AT-f",
        "outputId": "1fd2860c-5085-4f3f-90a2-5999583218e7"
      },
      "execution_count": 2,
      "outputs": [
        {
          "output_type": "stream",
          "name": "stdout",
          "text": [
            "[1, 10, 5, 3]\n"
          ]
        }
      ]
    },
    {
      "cell_type": "code",
      "source": [
        "numeros = []\n",
        "numeros = numeros +[10,5,3]\n",
        "print(numeros)"
      ],
      "metadata": {
        "colab": {
          "base_uri": "https://localhost:8080/"
        },
        "id": "7EPNJ49BAmBW",
        "outputId": "df01f154-82d1-43fb-b236-b49600cf5c6b"
      },
      "execution_count": 5,
      "outputs": [
        {
          "output_type": "stream",
          "name": "stdout",
          "text": [
            "[10, 5, 3]\n"
          ]
        }
      ]
    },
    {
      "cell_type": "code",
      "source": [
        "palabras = ['hola','hello','ola']\n",
        "palabras.pop()\n",
        "print(palabras)"
      ],
      "metadata": {
        "colab": {
          "base_uri": "https://localhost:8080/"
        },
        "id": "rrTanCSGBKm5",
        "outputId": "71b270d8-1454-4b87-cb41-5c47b4716c0c"
      },
      "execution_count": 11,
      "outputs": [
        {
          "output_type": "stream",
          "name": "stdout",
          "text": [
            "['hola', 'hello']\n",
            "['hola', 'hello']\n"
          ]
        }
      ]
    },
    {
      "cell_type": "code",
      "source": [
        "palabras = ['hola','hello','hello','ola']\n",
        "palabras.remove('hello')\n",
        "print(palabras)"
      ],
      "metadata": {
        "colab": {
          "base_uri": "https://localhost:8080/"
        },
        "id": "DhKVSyZkCmay",
        "outputId": "4fb330f0-af35-4317-d3c4-786246fa92a0"
      },
      "execution_count": 13,
      "outputs": [
        {
          "output_type": "stream",
          "name": "stdout",
          "text": [
            "['hola', 'hello', 'ola']\n"
          ]
        }
      ]
    },
    {
      "cell_type": "code",
      "source": [
        "nombres =[]\n",
        "identificaciones =[]\n",
        "\n",
        "respuesta=\"s\"\n",
        "tamaño = 0\n",
        "\n",
        "while respuesta ==\"s\":\n",
        "  print(\"Ingrese los datos de la persona\",tamaño+1)\n",
        "  nombre=input(\"Nombre: \")\n",
        "  identificacion=input(\"Identificacion: \")\n",
        "  nombres.append(nombre)\n",
        "  identificaciones.append(identificacion)\n",
        "  respuesta=input(\"Desea ingresar otro dato? s/n: \")\n",
        "  tamaño +=1\n",
        "\n",
        "for i in range(tamaño):\n",
        "  print(\"Mostrando los datos de la persona\",i+1)\n",
        "\n",
        "  print(\"Nombre:\",nombres[i])\n",
        "  print(\"Identificacion:\",identificaciones[i])\n"
      ],
      "metadata": {
        "colab": {
          "base_uri": "https://localhost:8080/"
        },
        "id": "JHTxrP_6DFq1",
        "outputId": "2cc644c8-abe1-4c35-a33d-5193550eb8b5"
      },
      "execution_count": 24,
      "outputs": [
        {
          "output_type": "stream",
          "name": "stdout",
          "text": [
            "Ingrese los datos de la persona 1\n",
            "Nombre: f\n",
            "Identificacion: 89\n",
            "Desea ingresar otro dato? s/n: n\n",
            "Mostrando los datos de la persona 1\n",
            "Nombre: f\n",
            "Identificacion: 89\n"
          ]
        }
      ]
    }
  ]
}