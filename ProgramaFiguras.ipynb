{
  "nbformat": 4,
  "nbformat_minor": 0,
  "metadata": {
    "colab": {
      "provenance": [],
      "authorship_tag": "ABX9TyOtEE0TTLfYyBjB2mq6yoUw",
      "include_colab_link": true
    },
    "kernelspec": {
      "name": "python3",
      "display_name": "Python 3"
    },
    "language_info": {
      "name": "python"
    }
  },
  "cells": [
    {
      "cell_type": "markdown",
      "metadata": {
        "id": "view-in-github",
        "colab_type": "text"
      },
      "source": [
        "<a href=\"https://colab.research.google.com/github/LuisHHernandez117/POO/blob/main/ProgramaFiguras.ipynb\" target=\"_parent\"><img src=\"https://colab.research.google.com/assets/colab-badge.svg\" alt=\"Open In Colab\"/></a>"
      ]
    },
    {
      "cell_type": "markdown",
      "source": [
        "Programa de Figuras. Hecho por Luis Hugo Pérez Hernandez |06/02/25"
      ],
      "metadata": {
        "id": "C9eGu544r08W"
      }
    },
    {
      "cell_type": "code",
      "execution_count": 2,
      "metadata": {
        "id": "izyMUPCqrxP9"
      },
      "outputs": [],
      "source": [
        "class Figuras:\n",
        "  def __init__(self):\n",
        "    self.Base=0\n",
        "    self.Altura=0\n",
        "    self.Pi=3.1416\n",
        "    self.Radio=0\n",
        "    self.Result=0\n",
        "    self.msg=\"\"\n",
        "\n",
        "  def cuadrado(self):\n",
        "    self.msg=\"El area del Cuadrado es=\",self.Base,\"h:\",self.Base,\"=\"\n",
        "    self.Result=self.Base*self.Base\n",
        "\n",
        "  def rectangulo(self):\n",
        "    self.msg=\"El area del Rectangulo es=\",self.Base,\"h:\",self.Altura,\"=\"\n",
        "    self.Result=self.Base*self.Altura/2\n",
        "\n",
        "  def circulo(self):\n",
        "    self.msg=\"El area del Circulo es=\",self.Pi,\"r:\",self.Radio,\"=\"\n",
        "    self.Result=self.Pi*self.Radio*self.Radio\n",
        "\n",
        "  def triangulo(self):\n",
        "    self.msg=\"El area del triangulos es=\",self.Base,\"h:\",self.Altura,\"=\"\n",
        "    self.Result=self.Base*self.Altura/2\n",
        "\n",
        "  def imprimir(self):\n",
        "    print(self.msg,self.Result)\n"
      ]
    },
    {
      "cell_type": "code",
      "source": [
        "obj=Figuras()\n",
        "obj.Base=int(input(\"Ingrese la Base:\"))\n",
        "obj.Altura=int(input(\"Ingrese las Altura:\"))\n",
        "obj.Radio=int(input(\"Ingrese el Radio:\"))\n",
        "obj.cuadrado()\n",
        "obj.imprimir()\n",
        "obj.rectangulo()\n",
        "obj.imprimir()\n",
        "obj.circulo()\n",
        "obj.imprimir()\n",
        "obj.triangulo()\n",
        "obj.imprimir()"
      ],
      "metadata": {
        "id": "vhE_ErrXuQya",
        "outputId": "d547a805-e1fa-405f-b2f7-a8a279048c72",
        "colab": {
          "base_uri": "https://localhost:8080/"
        }
      },
      "execution_count": 3,
      "outputs": [
        {
          "output_type": "stream",
          "name": "stdout",
          "text": [
            "Ingrese la Base:2\n",
            "Ingrese las Altura:3\n",
            "Ingrese el Radio:4\n",
            "('El area del Cuadrado es=', 2, 'h:', 2, '=') 4\n",
            "('El area del Rectangulo es=', 2, 'h:', 3, '=') 3.0\n",
            "('El area del Circulo es=', 3.1416, 'r:', 4, '=') 50.2656\n",
            "('El area del triangulos es=', 2, 'h:', 3, '=') 3.0\n"
          ]
        }
      ]
    }
  ]
}