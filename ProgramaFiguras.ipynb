{
  "nbformat": 4,
  "nbformat_minor": 0,
  "metadata": {
    "colab": {
      "provenance": [],
      "authorship_tag": "ABX9TyMPwrsc+KtIHOIdU8D9GnVC",
      "include_colab_link": true
    },
    "kernelspec": {
      "name": "python3",
      "display_name": "Python 3"
    },
    "language_info": {
      "name": "python"
    }
  },
  "cells": [
    {
      "cell_type": "markdown",
      "metadata": {
        "id": "view-in-github",
        "colab_type": "text"
      },
      "source": [
        "<a href=\"https://colab.research.google.com/github/LuisHHernandez117/POO/blob/main/ProgramaFiguras.ipynb\" target=\"_parent\"><img src=\"https://colab.research.google.com/assets/colab-badge.svg\" alt=\"Open In Colab\"/></a>"
      ]
    },
    {
      "cell_type": "markdown",
      "source": [
        "Programa de Figuras. Hecho por Luis Hugo Pérez Hernandez |06/02/25"
      ],
      "metadata": {
        "id": "C9eGu544r08W"
      }
    },
    {
      "cell_type": "code",
      "execution_count": null,
      "metadata": {
        "id": "izyMUPCqrxP9"
      },
      "outputs": [],
      "source": [
        "class Figuras:\n",
        "  def __init__(self):\n",
        "    self.Base=0\n",
        "    self.Altura=0\n",
        "    self.Pi=3.1416\n",
        "    self.Radio=0\n",
        "    self.Result=0\n",
        "    self.msg=0\n",
        "\n",
        "  def cuadrado(self):\n",
        "    self.msg=\"El area del Cuadrado es=\",self.Base,\"h:\",self.Base,\"=\"\n",
        "    self.Result=self.Base*self.Base\n",
        "\n",
        "  def rectangulo(self):\n",
        "    self.msg=\"El area del Rectangulo es=\",self.Base,\"h:\",self.Altura,\"=\"\n",
        "    self.Result=self.Base*self.Altura/2\n",
        "\n",
        "  def circulo(self):\n",
        "    self.msg=\"El area del Circulo es=\",self.Pi,\"r:\",self.Radio,\"=\"\n",
        "    self.Result=self.Pi*self.Radio*self.Radio\n",
        "\n",
        "def triangulo(self):\n",
        "  self.msg=\"El area del triangulos es=\",self.Base,\"h:\",self.Altura,\"=\"\n",
        "  self.Result=self.Base*self.Altura/2\n",
        "\n",
        "  def imprimir(self):\n",
        "    print(self.msg,self.Result)\n"
      ]
    },
    {
      "cell_type": "code",
      "source": [
        "obj=Figuras()\n",
        "obj.Base=int(input(\"Ingrese la Base:\"))\n",
        "obj.Altura=int(input(\"Ingrese las Altura:\"))\n",
        "obj.Radio=int(input(\"Ingrese el Radio:\"))\n",
        "obj.cuadrado()\n",
        "obj.imprimir()\n",
        "obj.rectangulo()\n",
        "obj.imprimir()\n",
        "obj.circulo()\n",
        "obj.imprimir()\n",
        "obj.triangulo()\n",
        "obj.imprimir()"
      ],
      "metadata": {
        "id": "vhE_ErrXuQya"
      },
      "execution_count": null,
      "outputs": []
    }
  ]
}